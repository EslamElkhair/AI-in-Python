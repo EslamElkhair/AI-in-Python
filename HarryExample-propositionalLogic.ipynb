{
  "nbformat": 4,
  "nbformat_minor": 0,
  "metadata": {
    "colab": {
      "provenance": [],
      "mount_file_id": "19FGuKr_0L66enEzFCCM47b70fIcQTMYZ",
      "authorship_tag": "ABX9TyNNKTZ/SNYe5sbD+rhU3a2E",
      "include_colab_link": true
    },
    "kernelspec": {
      "name": "python3",
      "display_name": "Python 3"
    },
    "language_info": {
      "name": "python"
    }
  },
  "cells": [
    {
      "cell_type": "markdown",
      "metadata": {
        "id": "view-in-github",
        "colab_type": "text"
      },
      "source": [
        "<a href=\"https://colab.research.google.com/github/EslamElkhair/AI-in-Python/blob/main/HarryExample-propositionalLogic.ipynb\" target=\"_parent\"><img src=\"https://colab.research.google.com/assets/colab-badge.svg\" alt=\"Open In Colab\"/></a>"
      ]
    },
    {
      "cell_type": "code",
      "execution_count": 5,
      "metadata": {
        "id": "NNBHPMPBm9ki",
        "outputId": "a9669d50-da14-460f-9935-ac16414284cc",
        "colab": {
          "base_uri": "https://localhost:8080/"
        }
      },
      "outputs": [
        {
          "output_type": "stream",
          "name": "stdout",
          "text": [
            "True\n",
            "((¬rain) => hagrid) ∧ (hagrid ∨  dumbledore) ∧ (¬(hagrid ∧ dumbledore)) ∧ dumbledore\n"
          ]
        }
      ],
      "source": [
        "from logic2 import *\n",
        "\n",
        "rain = Symbol(\"rain\")\n",
        "hagrid = Symbol(\"hagrid\")\n",
        "dumbledore = Symbol(\"dumbledore\")\n",
        "\n",
        "knowledge = And(\n",
        "    Implication(Not(rain), hagrid),\n",
        "    Or(hagrid, dumbledore),\n",
        "    Not(And(hagrid, dumbledore)),\n",
        "    dumbledore\n",
        ")\n",
        "\n",
        "print(model_check(knowledge, rain))\n",
        "print(knowledge.formula())\n"
      ]
    }
  ]
}