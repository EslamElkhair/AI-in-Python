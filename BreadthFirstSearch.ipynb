{
  "nbformat": 4,
  "nbformat_minor": 0,
  "metadata": {
    "colab": {
      "provenance": [],
      "authorship_tag": "ABX9TyPHPUI3Z+ZEkcY8IUWJOR+A",
      "include_colab_link": true
    },
    "kernelspec": {
      "name": "python3",
      "display_name": "Python 3"
    },
    "language_info": {
      "name": "python"
    }
  },
  "cells": [
    {
      "cell_type": "markdown",
      "metadata": {
        "id": "view-in-github",
        "colab_type": "text"
      },
      "source": [
        "<a href=\"https://colab.research.google.com/github/EslamElkhair/AI-in-Python/blob/main/BreadthFirstSearch.ipynb\" target=\"_parent\"><img src=\"https://colab.research.google.com/assets/colab-badge.svg\" alt=\"Open In Colab\"/></a>"
      ]
    },
    {
      "cell_type": "code",
      "execution_count": 1,
      "metadata": {
        "colab": {
          "base_uri": "https://localhost:8080/"
        },
        "id": "d3CNYtpONWAL",
        "outputId": "794250c0-207b-46b0-e8ae-ad0c3b39f34b"
      },
      "outputs": [
        {
          "output_type": "stream",
          "name": "stdout",
          "text": [
            "{'A': False, 'B': False, 'C': False, 'D': False, 'E': False, 'F': False, 'G': False, 'H': False}\n",
            "{'A': -1, 'B': -1, 'C': -1, 'D': -1, 'E': -1, 'F': -1, 'G': -1, 'H': -1}\n",
            "{'A': None, 'B': None, 'C': None, 'D': None, 'E': None, 'F': None, 'G': None, 'H': None}\n",
            "['A', 'B', 'D', 'C', 'E', 'F', 'G', 'H']\n",
            "3\n",
            "['A', 'D', 'E', 'G']\n"
          ]
        }
      ],
      "source": [
        "\n",
        "from queue import Queue\n",
        "adj_list={\n",
        "        'A':['B','D'],\n",
        "        'B':['A','C'],\n",
        "        'C':['B'],\n",
        "        'D':['A','E','F'],\n",
        "        'E':['D','F','G'],\n",
        "        'F':['D','E','H'],\n",
        "        'G':['E','H'],\n",
        "        'H':['G','F']\n",
        "        }\n",
        "#bsf code\n",
        "visited={}\n",
        "level={}\n",
        "parent={}\n",
        "bfs_traversal_output=[]\n",
        "queue=Queue()\n",
        "for node in adj_list.keys():\n",
        "    visited[node]=False\n",
        "    parent[node]=None\n",
        "    level[node]=-1\n",
        "print(visited)\n",
        "print(level)\n",
        "print(parent)\n",
        "s='A'\n",
        "visited[s]=True\n",
        "level[s]=0\n",
        "queue.put(s)\n",
        "while not queue.empty():\n",
        "    u=queue.get()  # get the first node in the queue\n",
        "    bfs_traversal_output.append(u)\n",
        "    for v in adj_list[u]:\n",
        "        if not visited[v]:\n",
        "            visited[v]=True\n",
        "            parent[v]=u\n",
        "            level[v]=level[u]+1\n",
        "            queue.put(v)\n",
        "print(bfs_traversal_output)\n",
        "#shortest distance of all nodes from the source node\n",
        "#print(level)\n",
        "print(level['G'])  # distance from S -> G\n",
        "# the shortest path from source node to any node\n",
        "v='G'\n",
        "path=[]\n",
        "while v is not None:\n",
        "    path.append(v)\n",
        "    v=parent[v]\n",
        "path.reverse()\n",
        "print(path)"
      ]
    }
  ]
}