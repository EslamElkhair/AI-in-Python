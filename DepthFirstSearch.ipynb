{
  "nbformat": 4,
  "nbformat_minor": 0,
  "metadata": {
    "colab": {
      "provenance": [],
      "authorship_tag": "ABX9TyPIgxo89bZwZwdi6olcZ5Hu",
      "include_colab_link": true
    },
    "kernelspec": {
      "name": "python3",
      "display_name": "Python 3"
    },
    "language_info": {
      "name": "python"
    }
  },
  "cells": [
    {
      "cell_type": "markdown",
      "metadata": {
        "id": "view-in-github",
        "colab_type": "text"
      },
      "source": [
        "<a href=\"https://colab.research.google.com/github/EslamElkhair/AI-in-Python/blob/main/DepthFirstSearch.ipynb\" target=\"_parent\"><img src=\"https://colab.research.google.com/assets/colab-badge.svg\" alt=\"Open In Colab\"/></a>"
      ]
    },
    {
      "cell_type": "code",
      "execution_count": 1,
      "metadata": {
        "colab": {
          "base_uri": "https://localhost:8080/"
        },
        "id": "90xG_0_CwvCz",
        "outputId": "dc77bfa4-21c1-4865-90b4-0bc9e2e7a7b3"
      },
      "outputs": [
        {
          "output_type": "stream",
          "name": "stdout",
          "text": [
            "-----the output-----\n",
            "\n",
            "a -> [0, 5]\n",
            "b -> [0, 3]\n",
            "c -> [4, 4]\n",
            "d -> [0, 0]\n",
            "e -> [1, 2]\n",
            "f -> [1, 1]\n",
            "\n",
            "{'a': 'black', 'b': 'black', 'c': 'black', 'd': 'black', 'e': 'black', 'f': 'black'}\n",
            "{'a': None, 'b': 'a', 'c': 'a', 'd': 'b', 'e': 'b', 'f': 'e'}\n",
            "{'a': [0, 5], 'b': [0, 3], 'c': [4, 4], 'd': [0, 0], 'e': [1, 2], 'f': [1, 1]}\n",
            "\n",
            "traverse --> ['a', 'b', 'd', 'e', 'f', 'c']\n"
          ]
        }
      ],
      "source": [
        "\n",
        "adj_list = {\n",
        "            'a': ['b', 'c'],\n",
        "            'b': ['d', 'e'],\n",
        "            'c': ['b', 'f'],\n",
        "            'd': [],\n",
        "            'e': ['f'],\n",
        "            'f': []\n",
        "           }\n",
        "color = {}\n",
        "parent = {}\n",
        "trav_time = {}\n",
        "dfs_trav_output = []\n",
        "\n",
        "for node in adj_list.keys():\n",
        "    color [node] = 'white'\n",
        "    parent[node] = None\n",
        "    trav_time[node] = [-1,-1]\n",
        "\n",
        "time = 0\n",
        "def dfs(u):\n",
        "    global time\n",
        "    color[u] = 'gray'\n",
        "    trav_time[u][0] = time # 0 > start time & 1 > finish time \n",
        "    dfs_trav_output.append(u)\n",
        "\n",
        "    for q in adj_list[u]:\n",
        "        if color[q] == 'white':\n",
        "            parent[q] = u\n",
        "            dfs(q)\n",
        "\n",
        "    color[u] = 'black'\n",
        "    trav_time[u][1] = time # finish time\n",
        "    time+=1\n",
        "\n",
        "dfs('a')\n",
        "print(\"-----the output-----\\n\")\n",
        "\n",
        "for node in adj_list.keys():\n",
        "    print(node,\"->\",trav_time[node])\n",
        "\n",
        "print()\n",
        "print(color)\n",
        "print(parent)\n",
        "print(trav_time)\n",
        "print()\n",
        "print(\"traverse -->\" ,dfs_trav_output)"
      ]
    }
  ]
}