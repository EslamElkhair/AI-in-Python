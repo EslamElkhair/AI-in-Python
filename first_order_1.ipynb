{
  "nbformat": 4,
  "nbformat_minor": 0,
  "metadata": {
    "colab": {
      "provenance": [],
      "authorship_tag": "ABX9TyOJo1kichvy0rBuyqtOfaQ9",
      "include_colab_link": true
    },
    "kernelspec": {
      "name": "python3",
      "display_name": "Python 3"
    },
    "language_info": {
      "name": "python"
    }
  },
  "cells": [
    {
      "cell_type": "markdown",
      "metadata": {
        "id": "view-in-github",
        "colab_type": "text"
      },
      "source": [
        "<a href=\"https://colab.research.google.com/github/EslamElkhair/AI-in-Python/blob/main/first_order_1.ipynb\" target=\"_parent\"><img src=\"https://colab.research.google.com/assets/colab-badge.svg\" alt=\"Open In Colab\"/></a>"
      ]
    },
    {
      "cell_type": "code",
      "execution_count": 4,
      "metadata": {
        "colab": {
          "base_uri": "https://localhost:8080/",
          "height": 495
        },
        "id": "2MQYwjBcS1Wq",
        "outputId": "d2add400-4c46-43d5-ee1d-817f9d0e163d"
      },
      "outputs": [
        {
          "output_type": "error",
          "ename": "ModuleNotFoundError",
          "evalue": "ignored",
          "traceback": [
            "\u001b[0;31m---------------------------------------------------------------------------\u001b[0m",
            "\u001b[0;31mModuleNotFoundError\u001b[0m                       Traceback (most recent call last)",
            "\u001b[0;32m<ipython-input-4-72e08daefcd5>\u001b[0m in \u001b[0;36m<module>\u001b[0;34m\u001b[0m\n\u001b[1;32m      1\u001b[0m \u001b[0;32mimport\u001b[0m \u001b[0mutils\u001b[0m\u001b[0;34m\u001b[0m\u001b[0;34m\u001b[0m\u001b[0m\n\u001b[0;32m----> 2\u001b[0;31m \u001b[0;32mfrom\u001b[0m \u001b[0mlogic\u001b[0m \u001b[0;32mimport\u001b[0m \u001b[0;34m*\u001b[0m\u001b[0;34m\u001b[0m\u001b[0;34m\u001b[0m\u001b[0m\n\u001b[0m\u001b[1;32m      3\u001b[0m \u001b[0;34m\u001b[0m\u001b[0m\n\u001b[1;32m      4\u001b[0m \"\"\"\"\n\u001b[1;32m      5\u001b[0m     \u001b[0manswer\u001b[0m \u001b[0;32mfor\u001b[0m \u001b[0mquestion\u001b[0m \u001b[0;36m4\u001b[0m\u001b[0;34m\u001b[0m\u001b[0;34m\u001b[0m\u001b[0m\n",
            "\u001b[0;32m/content/logic.py\u001b[0m in \u001b[0;36m<module>\u001b[0;34m\u001b[0m\n\u001b[1;32m     40\u001b[0m \u001b[0;32mimport\u001b[0m \u001b[0mnetworkx\u001b[0m \u001b[0;32mas\u001b[0m \u001b[0mnx\u001b[0m\u001b[0;34m\u001b[0m\u001b[0;34m\u001b[0m\u001b[0m\n\u001b[1;32m     41\u001b[0m \u001b[0;34m\u001b[0m\u001b[0m\n\u001b[0;32m---> 42\u001b[0;31m \u001b[0;32mfrom\u001b[0m \u001b[0maima\u001b[0m\u001b[0;34m.\u001b[0m\u001b[0magents\u001b[0m \u001b[0;32mimport\u001b[0m \u001b[0mAgent\u001b[0m\u001b[0;34m,\u001b[0m \u001b[0mGlitter\u001b[0m\u001b[0;34m,\u001b[0m \u001b[0mBump\u001b[0m\u001b[0;34m,\u001b[0m \u001b[0mStench\u001b[0m\u001b[0;34m,\u001b[0m \u001b[0mBreeze\u001b[0m\u001b[0;34m,\u001b[0m \u001b[0mScream\u001b[0m\u001b[0;34m\u001b[0m\u001b[0;34m\u001b[0m\u001b[0m\n\u001b[0m\u001b[1;32m     43\u001b[0m \u001b[0;32mfrom\u001b[0m \u001b[0maima\u001b[0m\u001b[0;34m.\u001b[0m\u001b[0mcsp\u001b[0m \u001b[0;32mimport\u001b[0m \u001b[0mparse_neighbors\u001b[0m\u001b[0;34m,\u001b[0m \u001b[0mUniversalDict\u001b[0m\u001b[0;34m\u001b[0m\u001b[0;34m\u001b[0m\u001b[0m\n\u001b[1;32m     44\u001b[0m \u001b[0;32mfrom\u001b[0m \u001b[0maima\u001b[0m\u001b[0;34m.\u001b[0m\u001b[0msearch\u001b[0m \u001b[0;32mimport\u001b[0m \u001b[0mastar_search\u001b[0m\u001b[0;34m,\u001b[0m \u001b[0mPlanRoute\u001b[0m\u001b[0;34m\u001b[0m\u001b[0;34m\u001b[0m\u001b[0m\n",
            "\u001b[0;31mModuleNotFoundError\u001b[0m: No module named 'aima'",
            "",
            "\u001b[0;31m---------------------------------------------------------------------------\u001b[0;32m\nNOTE: If your import is failing due to a missing package, you can\nmanually install dependencies using either !pip or !apt.\n\nTo view examples of installing some common dependencies, click the\n\"Open Examples\" button below.\n\u001b[0;31m---------------------------------------------------------------------------\u001b[0m\n"
          ],
          "errorDetails": {
            "actions": [
              {
                "action": "open_url",
                "actionText": "Open Examples",
                "url": "/notebooks/snippets/importing_libraries.ipynb"
              }
            ]
          }
        }
      ],
      "source": [
        "import utils\n",
        "from logic import *\n",
        "\n",
        "\"\"\"\"\n",
        "    answer for question 4\n",
        "\"\"\"\n",
        "\n",
        "\n",
        "clauses = [expr(\"Man(John)\"), expr(\"Women(Jia)\"), expr(\"Healthy(John)\"), expr(\"Wealthy(John)\"), expr(\"Wealthy(Jia)\")\n",
        "    ,expr(\"(Wealthy(x) & Healthy(x)) ==> Traveler(x)\")]\n",
        "\n",
        "KB = FolKB(clauses)\n",
        "wealthy = fol_bc_ask(KB, expr(\"Wealthy(x)\"))\n",
        "healthy = fol_bc_ask(KB, expr(\"Healthy(x)\"))\n",
        "traveler = fol_bc_ask(KB, expr(\"Traveler(x)\"))\n",
        "print('Who are healthy ?')\n",
        "print(list(healthy), '\\n')\n",
        "print('Who are wealthy ?')\n",
        "print(list(wealthy), '\\n')\n",
        "print('Who can travel ?')\n",
        "print(list(traveler))"
      ]
    }
  ]
}