{
  "nbformat": 4,
  "nbformat_minor": 0,
  "metadata": {
    "colab": {
      "provenance": [],
      "authorship_tag": "ABX9TyPY2dcVOSCnfefb1mMpq0el",
      "include_colab_link": true
    },
    "kernelspec": {
      "name": "python3",
      "display_name": "Python 3"
    },
    "language_info": {
      "name": "python"
    }
  },
  "cells": [
    {
      "cell_type": "markdown",
      "metadata": {
        "id": "view-in-github",
        "colab_type": "text"
      },
      "source": [
        "<a href=\"https://colab.research.google.com/github/EslamElkhair/AI-in-Python/blob/main/first_order.ipynb\" target=\"_parent\"><img src=\"https://colab.research.google.com/assets/colab-badge.svg\" alt=\"Open In Colab\"/></a>"
      ]
    },
    {
      "cell_type": "code",
      "execution_count": 7,
      "metadata": {
        "colab": {
          "base_uri": "https://localhost:8080/",
          "height": 373
        },
        "id": "N7_LL2JAAdQL",
        "outputId": "1e8cc80c-bc29-4e2a-fa87-c07d1e0397da"
      },
      "outputs": [
        {
          "output_type": "error",
          "ename": "ModuleNotFoundError",
          "evalue": "ignored",
          "traceback": [
            "\u001b[0;31m---------------------------------------------------------------------------\u001b[0m",
            "\u001b[0;31mModuleNotFoundError\u001b[0m                       Traceback (most recent call last)",
            "\u001b[0;32m<ipython-input-7-a323a45e8069>\u001b[0m in \u001b[0;36m<module>\u001b[0;34m\u001b[0m\n\u001b[1;32m      7\u001b[0m \u001b[0;34m\u001b[0m\u001b[0m\n\u001b[1;32m      8\u001b[0m \u001b[0;31m# Import libraries\u001b[0m\u001b[0;34m\u001b[0m\u001b[0;34m\u001b[0m\u001b[0;34m\u001b[0m\u001b[0m\n\u001b[0;32m----> 9\u001b[0;31m \u001b[0;32mimport\u001b[0m \u001b[0maima\u001b[0m\u001b[0;34m.\u001b[0m\u001b[0mutils\u001b[0m\u001b[0;34m\u001b[0m\u001b[0;34m\u001b[0m\u001b[0m\n\u001b[0m\u001b[1;32m     10\u001b[0m \u001b[0;32mimport\u001b[0m \u001b[0maima\u001b[0m\u001b[0;34m.\u001b[0m\u001b[0mlogic\u001b[0m\u001b[0;34m\u001b[0m\u001b[0;34m\u001b[0m\u001b[0m\n\u001b[1;32m     11\u001b[0m \u001b[0;31m# The main entry point for this module\u001b[0m\u001b[0;34m\u001b[0m\u001b[0;34m\u001b[0m\u001b[0;34m\u001b[0m\u001b[0m\n",
            "\u001b[0;31mModuleNotFoundError\u001b[0m: No module named 'aima'",
            "",
            "\u001b[0;31m---------------------------------------------------------------------------\u001b[0;32m\nNOTE: If your import is failing due to a missing package, you can\nmanually install dependencies using either !pip or !apt.\n\nTo view examples of installing some common dependencies, click the\n\"Open Examples\" button below.\n\u001b[0;31m---------------------------------------------------------------------------\u001b[0m\n"
          ],
          "errorDetails": {
            "actions": [
              {
                "action": "open_url",
                "actionText": "Open Examples",
                "url": "/notebooks/snippets/importing_libraries.ipynb"
              }
            ]
          }
        }
      ],
      "source": [
        "# -*- coding: utf-8 -*-\n",
        "\"\"\"\n",
        "Created on Thu Nov 18 16:03:45 2021\n",
        "\n",
        "@author: workstation\n",
        "\"\"\"\n",
        "\n",
        "# Import libraries\n",
        "import aima.utils\n",
        "import aima.logic\n",
        "# The main entry point for this module\n",
        "def main():\n",
        "    # Create an array to hold clauses\n",
        "    clauses = []\n",
        "    # Add first-order logic clauses (rules and fact)\n",
        "    clauses.append(aima.utils.expr(\"(American(x) & Weapon(y) & Sells(x, y, z) & Hostile(z)) ==> Criminal(x)\"))\n",
        "    clauses.append(aima.utils.expr(\"Enemy(Nono, America)\"))\n",
        "    clauses.append(aima.utils.expr(\"Owns(Nono, M1)\"))\n",
        "    clauses.append(aima.utils.expr(\"Missile(M1)\"))\n",
        "    clauses.append(aima.utils.expr(\"(Missile(x) & Owns(Nono, x)) ==> Sells(West, x, Nono)\"))\n",
        "    clauses.append(aima.utils.expr(\"American(West)\"))\n",
        "    clauses.append(aima.utils.expr(\"Missile(x) ==> Weapon(x)\"))\n",
        "    # Create a first-order logic knowledge base (KB) with clauses\n",
        "    KB = aima.logic.FolKB(clauses)\n",
        "    # Add rules and facts with tell\n",
        "    KB.tell(aima.utils.expr('Enemy(Coco, America)'))\n",
        "    KB.tell(aima.utils.expr('Enemy(Jojo, America)'))\n",
        "    KB.tell(aima.utils.expr(\"Enemy(x, America) ==> Hostile(x)\"))\n",
        "    # Get information from the knowledge base with ask\n",
        "    hostile = KB.ask(aima.utils.expr('Hostile(x)'))\n",
        "    criminal = KB.ask(aima.utils.expr('Criminal(x)'))\n",
        "    # Print answers\n",
        "    print('Hostile?')\n",
        "    print(hostile)\n",
        "    print('\\nCriminal?')\n",
        "    print(criminal)\n",
        "    print()\n",
        "# Tell python to run main method\n",
        "if __name__ == \"__main__\": main()"
      ]
    }
  ]
}